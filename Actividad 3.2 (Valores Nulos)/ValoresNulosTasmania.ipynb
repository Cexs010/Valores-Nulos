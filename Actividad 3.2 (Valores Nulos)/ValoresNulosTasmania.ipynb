{
 "cells": [
  {
   "cell_type": "code",
   "execution_count": 57,
   "metadata": {},
   "outputs": [],
   "source": [
    "#librerias a usar\n",
    "import pandas as pd \n",
    "import numpy as np\n",
    "import matplotlib.pyplot as plt\n",
    "import seaborn as sns"
   ]
  },
  {
   "cell_type": "code",
   "execution_count": 58,
   "metadata": {},
   "outputs": [],
   "source": [
    "#cargar archivo csv\n",
    "data = pd.read_csv('Tasmania.csv')"
   ]
  },
  {
   "cell_type": "markdown",
   "metadata": {},
   "source": [
    "**Primero Eliminaremos las columnas que no usaremos y dejaremos las 50 que seleccionamos por equipo** "
   ]
  },
  {
   "cell_type": "code",
   "execution_count": 59,
   "metadata": {},
   "outputs": [],
   "source": [
    "#Eliminar columnas innecesarias con drop\n",
    "#axis1 es para columnas y axis0 es para filas\n",
    "data1 = data.drop(['scrape_id','source','name','neighborhood_overview','picture_url','host_location', 'host_about',\n",
    "                   'host_thumbnail_url', 'host_picture_url','host_has_profile_pic' ,'neighbourhood_group_cleansed',\n",
    "                   'latitude','longitude','bathrooms_text','minimum_minimum_nights','maximum_minimum_nights',\n",
    "                   'minimum_maximum_nights','maximum_maximum_nights','minimum_nights_avg_ntm','maximum_nights_avg_ntm',\n",
    "                   'calendar_updated', 'host_name','host_neighbourhood', 'review_scores_rating','review_scores_value', \n",
    "                   ], \n",
    "                   axis=1)"
   ]
  },
  {
   "cell_type": "code",
   "execution_count": 60,
   "metadata": {},
   "outputs": [
    {
     "name": "stdout",
     "output_type": "stream",
     "text": [
      "El número total de columnas es: 50\n"
     ]
    }
   ],
   "source": [
    "#verificamos si contamos con las 50 columnas necesarias\n",
    "num_columnas = len(data1.columns)\n",
    "print(f\"El número total de columnas es: {num_columnas}\")"
   ]
  },
  {
   "cell_type": "markdown",
   "metadata": {},
   "source": [
    "**Verificaremos unicamente las columnas con valores nulos**"
   ]
  },
  {
   "cell_type": "code",
   "execution_count": 61,
   "metadata": {},
   "outputs": [
    {
     "name": "stdout",
     "output_type": "stream",
     "text": [
      "description                     168\n",
      "host_response_time              970\n",
      "host_response_rate              970\n",
      "host_acceptance_rate            559\n",
      "host_is_superhost               143\n",
      "neighbourhood                  2098\n",
      "bathrooms                       718\n",
      "bedrooms                        122\n",
      "beds                            727\n",
      "price                           717\n",
      "has_availability                 44\n",
      "first_review                    365\n",
      "last_review                     365\n",
      "review_scores_accuracy          365\n",
      "review_scores_cleanliness       365\n",
      "review_scores_checkin           365\n",
      "review_scores_communication     365\n",
      "review_scores_location          365\n",
      "license                         303\n",
      "reviews_per_month               365\n",
      "dtype: int64\n"
     ]
    }
   ],
   "source": [
    "# Identificar valores nulos por columna\n",
    "valores_nulos = data1.isnull().sum()\n",
    "\n",
    "# Filtrar columnas con valores nulos\n",
    "columnas_con_nulos = valores_nulos[valores_nulos > 0]\n",
    "print(columnas_con_nulos)"
   ]
  },
  {
   "cell_type": "markdown",
   "metadata": {},
   "source": [
    "**Primero sustituiremos las descripciones vacias por el texto \"este airbnb no cuenta con una descripcion detallada\"**<br>\n",
    "Para esto usaremos la variable description y usando el método fillna insertaremos nuestro string en <br>\n",
    "valores nulos"
   ]
  },
  {
   "cell_type": "code",
   "execution_count": 62,
   "metadata": {},
   "outputs": [
    {
     "name": "stdout",
     "output_type": "stream",
     "text": [
      "host_response_time              970\n",
      "host_response_rate              970\n",
      "host_acceptance_rate            559\n",
      "host_is_superhost               143\n",
      "neighbourhood                  2098\n",
      "bathrooms                       718\n",
      "bedrooms                        122\n",
      "beds                            727\n",
      "price                           717\n",
      "has_availability                 44\n",
      "first_review                    365\n",
      "last_review                     365\n",
      "review_scores_accuracy          365\n",
      "review_scores_cleanliness       365\n",
      "review_scores_checkin           365\n",
      "review_scores_communication     365\n",
      "review_scores_location          365\n",
      "license                         303\n",
      "reviews_per_month               365\n",
      "dtype: int64\n"
     ]
    }
   ],
   "source": [
    "#Sustituir valores nulos por un string en concreto\n",
    "data1['description'] = data1['description'].fillna('Este airbnb no cuenta con una descripcion detallada')\n",
    "# Identificar valores nulos por columna\n",
    "valores_nulos = data1.isnull().sum()\n",
    "columnas_con_nulos = valores_nulos[valores_nulos > 0]\n",
    "print(columnas_con_nulos)"
   ]
  },
  {
   "cell_type": "markdown",
   "metadata": {},
   "source": [
    "**Ahora sustituiremos host_response_time nulos por el texto \"N/A\"**<br>\n",
    "Para esto usaremos la variable host_response_time y usando el método fillna insertaremos nuestro string en los <br>\n",
    "valores nulos"
   ]
  },
  {
   "cell_type": "code",
   "execution_count": 63,
   "metadata": {},
   "outputs": [
    {
     "name": "stdout",
     "output_type": "stream",
     "text": [
      "host_response_rate              970\n",
      "host_acceptance_rate            559\n",
      "host_is_superhost               143\n",
      "neighbourhood                  2098\n",
      "bathrooms                       718\n",
      "bedrooms                        122\n",
      "beds                            727\n",
      "price                           717\n",
      "has_availability                 44\n",
      "first_review                    365\n",
      "last_review                     365\n",
      "review_scores_accuracy          365\n",
      "review_scores_cleanliness       365\n",
      "review_scores_checkin           365\n",
      "review_scores_communication     365\n",
      "review_scores_location          365\n",
      "license                         303\n",
      "reviews_per_month               365\n",
      "dtype: int64\n"
     ]
    }
   ],
   "source": [
    "data1['host_response_time'] = data1['host_response_time'].fillna('No hay tiempo de respuesta')\n",
    "# Identificar valores nulos por columna\n",
    "valores_nulos = data1.isnull().sum()\n",
    "columnas_con_nulos = valores_nulos[valores_nulos > 0]\n",
    "print(columnas_con_nulos)\n"
   ]
  },
  {
   "cell_type": "markdown",
   "metadata": {},
   "source": [
    "**Ahora sustituiremos los valores de host_response_rate nulos por el texto \"No hay porcentaje de respuesta\"**<br>\n",
    "Para esto usaremos la variable host_response_rate y usando el método fillna insertaremos nuestro string en los <br>\n",
    "valores nulos"
   ]
  },
  {
   "cell_type": "code",
   "execution_count": 64,
   "metadata": {},
   "outputs": [
    {
     "name": "stdout",
     "output_type": "stream",
     "text": [
      "host_acceptance_rate            559\n",
      "host_is_superhost               143\n",
      "neighbourhood                  2098\n",
      "bathrooms                       718\n",
      "bedrooms                        122\n",
      "beds                            727\n",
      "price                           717\n",
      "has_availability                 44\n",
      "first_review                    365\n",
      "last_review                     365\n",
      "review_scores_accuracy          365\n",
      "review_scores_cleanliness       365\n",
      "review_scores_checkin           365\n",
      "review_scores_communication     365\n",
      "review_scores_location          365\n",
      "license                         303\n",
      "reviews_per_month               365\n",
      "dtype: int64\n"
     ]
    }
   ],
   "source": [
    "data1['host_response_rate'] = data1['host_response_rate'].fillna('No hay porcentaje de respuesta')\n",
    "# Identificar valores nulos por columna\n",
    "valores_nulos = data1.isnull().sum()\n",
    "columnas_con_nulos = valores_nulos[valores_nulos > 0]\n",
    "print(columnas_con_nulos)"
   ]
  },
  {
   "cell_type": "markdown",
   "metadata": {},
   "source": [
    "**Ahora sustituiremos los valores de host_acceptance_rate nulos por el texto \"No hay porcentaje de aceptacion\"**<br>\n",
    "Para esto usaremos la variable host_acceptance_rate y usando el método fillna insertaremos nuestro string en los <br>\n",
    "valores nulos"
   ]
  },
  {
   "cell_type": "code",
   "execution_count": 65,
   "metadata": {},
   "outputs": [
    {
     "name": "stdout",
     "output_type": "stream",
     "text": [
      "host_is_superhost               143\n",
      "neighbourhood                  2098\n",
      "bathrooms                       718\n",
      "bedrooms                        122\n",
      "beds                            727\n",
      "price                           717\n",
      "has_availability                 44\n",
      "first_review                    365\n",
      "last_review                     365\n",
      "review_scores_accuracy          365\n",
      "review_scores_cleanliness       365\n",
      "review_scores_checkin           365\n",
      "review_scores_communication     365\n",
      "review_scores_location          365\n",
      "license                         303\n",
      "reviews_per_month               365\n",
      "dtype: int64\n"
     ]
    }
   ],
   "source": [
    "data1['host_acceptance_rate'] = data1['host_acceptance_rate'].fillna('No hay porcentaje de aceptacion')\t\n",
    "# Identificar valores nulos por columna\n",
    "valores_nulos = data1.isnull().sum()\n",
    "columnas_con_nulos = valores_nulos[valores_nulos > 0]\n",
    "print(columnas_con_nulos)"
   ]
  },
  {
   "cell_type": "markdown",
   "metadata": {},
   "source": [
    "**Ahora sustituiremos los valores de host_is_superhost nulos**<br>\n",
    "Para esto usaremos la variable host_is_superhost. En este caso daré por hecho que al no tener un valor asignado no <br>\n",
    "se considera super host, asi que por defecto asignaré f de false a los valores nulos"
   ]
  },
  {
   "cell_type": "code",
   "execution_count": 66,
   "metadata": {},
   "outputs": [
    {
     "name": "stdout",
     "output_type": "stream",
     "text": [
      "neighbourhood                  2098\n",
      "bathrooms                       718\n",
      "bedrooms                        122\n",
      "beds                            727\n",
      "price                           717\n",
      "has_availability                 44\n",
      "first_review                    365\n",
      "last_review                     365\n",
      "review_scores_accuracy          365\n",
      "review_scores_cleanliness       365\n",
      "review_scores_checkin           365\n",
      "review_scores_communication     365\n",
      "review_scores_location          365\n",
      "license                         303\n",
      "reviews_per_month               365\n",
      "dtype: int64\n"
     ]
    }
   ],
   "source": [
    "data1['host_is_superhost'] = data1['host_is_superhost'].fillna('f')\t\n",
    "# Identificar valores nulos por columna\n",
    "valores_nulos = data1.isnull().sum()\n",
    "columnas_con_nulos = valores_nulos[valores_nulos > 0]\n",
    "print(columnas_con_nulos)"
   ]
  },
  {
   "cell_type": "markdown",
   "metadata": {},
   "source": [
    "**Ahora sustituiremos los valores de neighbourhood nulos**<br>\n",
    "Para esto usaremos la variable neighbourhood. La variable neighbourhood en la bd se usa para asignar si un vecindario es <br>\n",
    "destacado, cuando un vecindario es destacado se usa \"Neighborhood highlights\" y noté que los vecindarios no destacados <br>\n",
    "tienen valores nulos, asi que por ende, a estos valores nulos les asignaré \"neighborhood not highlighted\"."
   ]
  },
  {
   "cell_type": "code",
   "execution_count": 67,
   "metadata": {},
   "outputs": [
    {
     "name": "stdout",
     "output_type": "stream",
     "text": [
      "bathrooms                      718\n",
      "bedrooms                       122\n",
      "beds                           727\n",
      "price                          717\n",
      "has_availability                44\n",
      "first_review                   365\n",
      "last_review                    365\n",
      "review_scores_accuracy         365\n",
      "review_scores_cleanliness      365\n",
      "review_scores_checkin          365\n",
      "review_scores_communication    365\n",
      "review_scores_location         365\n",
      "license                        303\n",
      "reviews_per_month              365\n",
      "dtype: int64\n"
     ]
    }
   ],
   "source": [
    "data1['neighbourhood'] = data1['neighbourhood'].fillna('neighborhood not highlighted')\t\n",
    "# Identificar valores nulos por columna\n",
    "valores_nulos = data1.isnull().sum()\n",
    "columnas_con_nulos = valores_nulos[valores_nulos > 0]\n",
    "print(columnas_con_nulos)"
   ]
  },
  {
   "cell_type": "markdown",
   "metadata": {},
   "source": [
    "**Ahora sustituiremos los valores de bathrooms nulos**<br>\n",
    "Para esto usaremos la variable bathrooms. En este caso decidi llenar los campos nulos con 1, ya que un airbnb al menos debe contar con un baño."
   ]
  },
  {
   "cell_type": "code",
   "execution_count": 68,
   "metadata": {},
   "outputs": [
    {
     "name": "stdout",
     "output_type": "stream",
     "text": [
      "bedrooms                       122\n",
      "beds                           727\n",
      "price                          717\n",
      "has_availability                44\n",
      "first_review                   365\n",
      "last_review                    365\n",
      "review_scores_accuracy         365\n",
      "review_scores_cleanliness      365\n",
      "review_scores_checkin          365\n",
      "review_scores_communication    365\n",
      "review_scores_location         365\n",
      "license                        303\n",
      "reviews_per_month              365\n",
      "dtype: int64\n"
     ]
    }
   ],
   "source": [
    "# Sustituir valores nulos en la columna 'bathrooms' con 1\n",
    "data1['bathrooms'] = data1['bathrooms'].fillna(1)\n",
    "# Identificar valores nulos por columna\n",
    "valores_nulos = data1.isnull().sum()\n",
    "columnas_con_nulos = valores_nulos[valores_nulos > 0]\n",
    "print(columnas_con_nulos)"
   ]
  },
  {
   "cell_type": "markdown",
   "metadata": {},
   "source": [
    "**Ahora sustituiremos los valores de bedrooms nulos**<br>\n",
    "Para esto usaremos la variable bedrooms. En este caso decidi llenar los campos nulos con 1, ya que un airbnb debe contar<br>\n",
    "con al menos un cuarto propio."
   ]
  },
  {
   "cell_type": "code",
   "execution_count": 69,
   "metadata": {},
   "outputs": [
    {
     "name": "stdout",
     "output_type": "stream",
     "text": [
      "beds                           727\n",
      "price                          717\n",
      "has_availability                44\n",
      "first_review                   365\n",
      "last_review                    365\n",
      "review_scores_accuracy         365\n",
      "review_scores_cleanliness      365\n",
      "review_scores_checkin          365\n",
      "review_scores_communication    365\n",
      "review_scores_location         365\n",
      "license                        303\n",
      "reviews_per_month              365\n",
      "dtype: int64\n"
     ]
    }
   ],
   "source": [
    "# Sustituir valores nulos en la columna 'bedrooms' con 1\n",
    "data1['bedrooms'] = data1['bedrooms'].fillna(1)\n",
    "# Identificar valores nulos por columna\n",
    "valores_nulos = data1.isnull().sum()\n",
    "columnas_con_nulos = valores_nulos[valores_nulos > 0]\n",
    "print(columnas_con_nulos)"
   ]
  },
  {
   "cell_type": "markdown",
   "metadata": {},
   "source": [
    "**Ahora sustituiremos los valores de beds nulos**<br>\n",
    "Para esto usaremos la variable beds. En este caso decidi usar la mediana."
   ]
  },
  {
   "cell_type": "code",
   "execution_count": 70,
   "metadata": {},
   "outputs": [
    {
     "name": "stdout",
     "output_type": "stream",
     "text": [
      "price                          717\n",
      "has_availability                44\n",
      "first_review                   365\n",
      "last_review                    365\n",
      "review_scores_accuracy         365\n",
      "review_scores_cleanliness      365\n",
      "review_scores_checkin          365\n",
      "review_scores_communication    365\n",
      "review_scores_location         365\n",
      "license                        303\n",
      "reviews_per_month              365\n",
      "dtype: int64\n"
     ]
    }
   ],
   "source": [
    "data1['beds'] = data1['beds'].fillna(round(data['beds'].median(),1))\n",
    "# Identificar valores nulos por columna\n",
    "valores_nulos = data1.isnull().sum()\n",
    "columnas_con_nulos = valores_nulos[valores_nulos > 0]\n",
    "print(columnas_con_nulos)"
   ]
  },
  {
   "cell_type": "markdown",
   "metadata": {},
   "source": [
    "**Ahora sustituiremos los valores de price nulos**<br>\n",
    "Para esto usaremos la variable price. En este caso decidi usar la mediana. Aqui se complico un poco ya que el precio se maneja<br>\n",
    "como string ya que se usa el simbolo $, pero aun asi se logro obtener la mediana e insertarla en <br>\n",
    "los campos nulos"
   ]
  },
  {
   "cell_type": "code",
   "execution_count": 71,
   "metadata": {},
   "outputs": [
    {
     "name": "stdout",
     "output_type": "stream",
     "text": [
      "has_availability                44\n",
      "first_review                   365\n",
      "last_review                    365\n",
      "review_scores_accuracy         365\n",
      "review_scores_cleanliness      365\n",
      "review_scores_checkin          365\n",
      "review_scores_communication    365\n",
      "review_scores_location         365\n",
      "license                        303\n",
      "reviews_per_month              365\n",
      "dtype: int64\n"
     ]
    },
    {
     "name": "stderr",
     "output_type": "stream",
     "text": [
      "<>:3: SyntaxWarning: invalid escape sequence '\\$'\n",
      "<>:3: SyntaxWarning: invalid escape sequence '\\$'\n",
      "C:\\Users\\cesar\\AppData\\Local\\Temp\\ipykernel_8384\\1421555544.py:3: SyntaxWarning: invalid escape sequence '\\$'\n",
      "  data1['price'].str.replace('[\\$,]', '', regex=True).astype(float).median(), 1\n"
     ]
    }
   ],
   "source": [
    "# Calcular la mediana de \"price\" sin el símbolo $\n",
    "mediana_precio = round(\n",
    "    data1['price'].str.replace('[\\$,]', '', regex=True).astype(float).median(), 1\n",
    ")\n",
    "\n",
    "# Rellenar valores nulos con la mediana, manteniendo el símbolo $\n",
    "data1['price'] = data1['price'].fillna(f'${mediana_precio}')\n",
    "\n",
    "# Identificar valores nulos por columna\n",
    "valores_nulos = data1.isnull().sum()\n",
    "columnas_con_nulos = valores_nulos[valores_nulos > 0]\n",
    "print(columnas_con_nulos)\n"
   ]
  },
  {
   "cell_type": "markdown",
   "metadata": {},
   "source": [
    "**Ahora sustituiremos los valores de has_availability nulos**<br>\n",
    "Para esto usaremos la variable has_availability. esta columna usa t o f, de true o false. decidi <br>\n",
    "reemplazar los nulos con f"
   ]
  },
  {
   "cell_type": "code",
   "execution_count": 72,
   "metadata": {},
   "outputs": [
    {
     "name": "stdout",
     "output_type": "stream",
     "text": [
      "first_review                   365\n",
      "last_review                    365\n",
      "review_scores_accuracy         365\n",
      "review_scores_cleanliness      365\n",
      "review_scores_checkin          365\n",
      "review_scores_communication    365\n",
      "review_scores_location         365\n",
      "license                        303\n",
      "reviews_per_month              365\n",
      "dtype: int64\n"
     ]
    }
   ],
   "source": [
    "# Sustituir valores nulos en la columna 'bathrooms' con 1\n",
    "data1['has_availability'] = data1['has_availability'].fillna('f')\n",
    "# Identificar valores nulos por columna\n",
    "valores_nulos = data1.isnull().sum()\n",
    "columnas_con_nulos = valores_nulos[valores_nulos > 0]\n",
    "print(columnas_con_nulos)"
   ]
  },
  {
   "cell_type": "markdown",
   "metadata": {},
   "source": [
    "**Ahora sustituiremos los valores de first_review nulos**<br>\n",
    "Para esto usaremos la variable first_review. Decidi usar una funcion no vista, que es sacar la moda para reemplzar los nulos. Decidi<br>\n",
    "usar la moda ya que first_review es de tipo date."
   ]
  },
  {
   "cell_type": "code",
   "execution_count": 73,
   "metadata": {},
   "outputs": [
    {
     "name": "stdout",
     "output_type": "stream",
     "text": [
      "last_review                    365\n",
      "review_scores_accuracy         365\n",
      "review_scores_cleanliness      365\n",
      "review_scores_checkin          365\n",
      "review_scores_communication    365\n",
      "review_scores_location         365\n",
      "license                        303\n",
      "reviews_per_month              365\n",
      "dtype: int64\n"
     ]
    }
   ],
   "source": [
    "data1['first_review'] = data1['first_review'].fillna(data1['first_review'].mode()[0])\n",
    "# Identificar valores nulos por columna\n",
    "valores_nulos = data1.isnull().sum()\n",
    "columnas_con_nulos = valores_nulos[valores_nulos > 0]\n",
    "print(columnas_con_nulos)"
   ]
  },
  {
   "cell_type": "markdown",
   "metadata": {},
   "source": [
    "**Ahora sustituiremos los valores de last_review nulos**<br>\n",
    "Para esto usaremos la variable last_review. Decidi usar una funcion no vista, que es sacar la moda para reemplzar los nulos. Decidi<br>\n",
    "usar la moda ya que last_review es de tipo date."
   ]
  },
  {
   "cell_type": "code",
   "execution_count": 74,
   "metadata": {},
   "outputs": [
    {
     "name": "stdout",
     "output_type": "stream",
     "text": [
      "review_scores_accuracy         365\n",
      "review_scores_cleanliness      365\n",
      "review_scores_checkin          365\n",
      "review_scores_communication    365\n",
      "review_scores_location         365\n",
      "license                        303\n",
      "reviews_per_month              365\n",
      "dtype: int64\n"
     ]
    }
   ],
   "source": [
    "data1['last_review'] = data1['last_review'].fillna(data1['last_review'].mode()[0])\n",
    "# Identificar valores nulos por columna\n",
    "valores_nulos = data1.isnull().sum()\n",
    "columnas_con_nulos = valores_nulos[valores_nulos > 0]\n",
    "print(columnas_con_nulos)"
   ]
  },
  {
   "cell_type": "markdown",
   "metadata": {},
   "source": [
    "**Ahora sustituiremos los valores de review_scores_accuracy nulos**<br>\n",
    "Para esto usaremos la variable review_scores_accuracy. Decidi reemplazar con la mediana."
   ]
  },
  {
   "cell_type": "code",
   "execution_count": 75,
   "metadata": {},
   "outputs": [
    {
     "name": "stdout",
     "output_type": "stream",
     "text": [
      "review_scores_cleanliness      365\n",
      "review_scores_checkin          365\n",
      "review_scores_communication    365\n",
      "review_scores_location         365\n",
      "license                        303\n",
      "reviews_per_month              365\n",
      "dtype: int64\n"
     ]
    }
   ],
   "source": [
    "data1['review_scores_accuracy'] = data1['review_scores_accuracy'].fillna(round(data['review_scores_accuracy'].median(),1))\n",
    "# Identificar valores nulos por columna\n",
    "valores_nulos = data1.isnull().sum()\n",
    "columnas_con_nulos = valores_nulos[valores_nulos > 0]\n",
    "print(columnas_con_nulos)"
   ]
  },
  {
   "cell_type": "markdown",
   "metadata": {},
   "source": [
    "**Ahora sustituiremos los valores de review_scores_cleanliness nulos**<br>\n",
    "Para esto usaremos la variable review_scores_cleanliness. Decidi reemplazar con la mediana."
   ]
  },
  {
   "cell_type": "code",
   "execution_count": 76,
   "metadata": {},
   "outputs": [
    {
     "name": "stdout",
     "output_type": "stream",
     "text": [
      "review_scores_checkin          365\n",
      "review_scores_communication    365\n",
      "review_scores_location         365\n",
      "license                        303\n",
      "reviews_per_month              365\n",
      "dtype: int64\n"
     ]
    }
   ],
   "source": [
    "data1['review_scores_cleanliness'] = data1['review_scores_cleanliness'].fillna(round(data['review_scores_cleanliness'].median(),1))\n",
    "# Identificar valores nulos por columna\n",
    "valores_nulos = data1.isnull().sum()\n",
    "columnas_con_nulos = valores_nulos[valores_nulos > 0]\n",
    "print(columnas_con_nulos)"
   ]
  },
  {
   "cell_type": "markdown",
   "metadata": {},
   "source": [
    "**Ahora sustituiremos los valores de review_scores_checkin nulos**<br>\n",
    "Para esto usaremos la variable review_scores_checkin. Decidi reemplazar con la mediana."
   ]
  },
  {
   "cell_type": "code",
   "execution_count": 77,
   "metadata": {},
   "outputs": [
    {
     "name": "stdout",
     "output_type": "stream",
     "text": [
      "review_scores_communication    365\n",
      "review_scores_location         365\n",
      "license                        303\n",
      "reviews_per_month              365\n",
      "dtype: int64\n"
     ]
    }
   ],
   "source": [
    "data1['review_scores_checkin'] = data1['review_scores_checkin'].fillna(round(data['review_scores_checkin'].median(),1))\n",
    "# Identificar valores nulos por columna\n",
    "valores_nulos = data1.isnull().sum()\n",
    "columnas_con_nulos = valores_nulos[valores_nulos > 0]\n",
    "print(columnas_con_nulos)"
   ]
  },
  {
   "cell_type": "markdown",
   "metadata": {},
   "source": [
    "**Ahora sustituiremos los valores de review_scores_communication nulos**<br>\n",
    "Para esto usaremos la variable review_scores_communication. Decidi reemplazar con la mediana."
   ]
  },
  {
   "cell_type": "code",
   "execution_count": 78,
   "metadata": {},
   "outputs": [
    {
     "name": "stdout",
     "output_type": "stream",
     "text": [
      "review_scores_location    365\n",
      "license                   303\n",
      "reviews_per_month         365\n",
      "dtype: int64\n"
     ]
    }
   ],
   "source": [
    "data1['review_scores_communication'] = data1['review_scores_communication'].fillna(round(data['review_scores_communication'].median(),1))\n",
    "# Identificar valores nulos por columna\n",
    "valores_nulos = data1.isnull().sum()\n",
    "columnas_con_nulos = valores_nulos[valores_nulos > 0]\n",
    "print(columnas_con_nulos)"
   ]
  },
  {
   "cell_type": "markdown",
   "metadata": {},
   "source": [
    "**Ahora sustituiremos los valores de review_scores_location nulos**<br>\n",
    "Para esto usaremos la variable review_scores_location. Decidi reemplazar con la mediana."
   ]
  },
  {
   "cell_type": "code",
   "execution_count": 79,
   "metadata": {},
   "outputs": [
    {
     "name": "stdout",
     "output_type": "stream",
     "text": [
      "license              303\n",
      "reviews_per_month    365\n",
      "dtype: int64\n"
     ]
    }
   ],
   "source": [
    "data1['review_scores_location'] = data1['review_scores_location'].fillna(round(data['review_scores_location'].median(),1))\n",
    "# Identificar valores nulos por columna\n",
    "valores_nulos = data1.isnull().sum()\n",
    "columnas_con_nulos = valores_nulos[valores_nulos > 0]\n",
    "print(columnas_con_nulos)"
   ]
  },
  {
   "cell_type": "markdown",
   "metadata": {},
   "source": [
    "**Ahora sustituiremos los valores de license nulos**<br>\n",
    "Para esto usaremos la variable license. Aqui los campos son de tipo string, en caso de que cuente con licencia <br>\n",
    "tiene el folio/ número de licencia, en caso contrario cuenta con una descripción de por que no cuenta con la licencia. Para <br>\n",
    "este caso decidi llenar los nulos con \"No cuenta con licencia\"."
   ]
  },
  {
   "cell_type": "code",
   "execution_count": 80,
   "metadata": {},
   "outputs": [
    {
     "name": "stdout",
     "output_type": "stream",
     "text": [
      "reviews_per_month    365\n",
      "dtype: int64\n"
     ]
    }
   ],
   "source": [
    "#Sustituir valores nulos por un string en concreto\n",
    "data1['license'] = data1['license'].fillna('No cuenta con licencia')\n",
    "# Identificar valores nulos por columna\n",
    "valores_nulos = data1.isnull().sum()\n",
    "columnas_con_nulos = valores_nulos[valores_nulos > 0]\n",
    "print(columnas_con_nulos)"
   ]
  },
  {
   "cell_type": "markdown",
   "metadata": {},
   "source": [
    "**Ahora sustituiremos los valores de reviews_per_month**<br>\n",
    "Para esto usaremos la variable reviews_per_month. Para este caso decidi usar la mediana "
   ]
  },
  {
   "cell_type": "code",
   "execution_count": 81,
   "metadata": {},
   "outputs": [
    {
     "name": "stdout",
     "output_type": "stream",
     "text": [
      "Series([], dtype: int64)\n"
     ]
    }
   ],
   "source": [
    "data1['reviews_per_month'] = data1['reviews_per_month'].fillna(round(data['reviews_per_month'].median(),1))\n",
    "# Identificar valores nulos por columna\n",
    "valores_nulos = data1.isnull().sum()\n",
    "columnas_con_nulos = valores_nulos[valores_nulos > 0]\n",
    "print(columnas_con_nulos)"
   ]
  },
  {
   "cell_type": "markdown",
   "metadata": {},
   "source": [
    "**finalmente verificamos que no contemos con campos nulos o vacios y crearemos el csv final ya listo para la siguiente etapa**"
   ]
  },
  {
   "cell_type": "code",
   "execution_count": 82,
   "metadata": {},
   "outputs": [],
   "source": [
    "#Identificar valores nulos por data frame\n",
    "valores_nulos = data1.isnull().sum().sum()\n",
    "valores_nulos\n",
    "data1.to_csv('Tasmania_sin_nulos.csv')"
   ]
  },
  {
   "cell_type": "code",
   "execution_count": 83,
   "metadata": {},
   "outputs": [
    {
     "name": "stdout",
     "output_type": "stream",
     "text": [
      "Series([], dtype: int64)\n"
     ]
    }
   ],
   "source": [
    "#cargar archivo csv\n",
    "dataNew = pd.read_csv('Tasmania_sin_nulos.csv')\n",
    "valores_nulos = dataNew.isnull().sum()\n",
    "columnas_con_nulos = valores_nulos[valores_nulos > 0]\n",
    "print(columnas_con_nulos)"
   ]
  }
 ],
 "metadata": {
  "kernelspec": {
   "display_name": "Python 3",
   "language": "python",
   "name": "python3"
  },
  "language_info": {
   "codemirror_mode": {
    "name": "ipython",
    "version": 3
   },
   "file_extension": ".py",
   "mimetype": "text/x-python",
   "name": "python",
   "nbconvert_exporter": "python",
   "pygments_lexer": "ipython3",
   "version": "3.12.8"
  }
 },
 "nbformat": 4,
 "nbformat_minor": 2
}
